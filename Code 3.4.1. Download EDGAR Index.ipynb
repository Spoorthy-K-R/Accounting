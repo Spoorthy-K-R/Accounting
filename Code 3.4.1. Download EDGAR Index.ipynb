{
 "cells": [
  {
   "cell_type": "markdown",
   "metadata": {},
   "source": [
    "# Download EDGAR index forms for the list of regulatory filings\n"
   ]
  },
  {
   "cell_type": "markdown",
   "metadata": {},
   "source": [
    "## 1. Import required libraries"
   ]
  },
  {
   "cell_type": "code",
   "execution_count": 2,
   "metadata": {},
   "outputs": [],
   "source": [
    "import requests\n",
    "from requests.adapters import HTTPAdapter\n",
    "from requests.packages.urllib3.util.retry import Retry\n",
    "import zipfile\n",
    "import os\n",
    "from io import BytesIO\n",
    "import time\n",
    "import glob\n",
    "import shutil  # Import shutil to remove directories\n"
   ]
  },
  {
   "cell_type": "markdown",
   "metadata": {},
   "source": [
    "- requests: Used to make HTTP requests to download files.\n",
    "- HTTPAdapter: Used to configure how HTTP requests are retried if they fail.\n",
    "- Retry: Provides retry logic for failed requests (e.g., 5xx errors).\n",
    "- zipfile: Helps in handling ZIP files.\n",
    "- os: Provides utilities for interacting with the operating system (e.g., creating directories).\n",
    "- BytesIO: Allows treating byte data (from the downloaded file) as a file object.\n",
    "- time: Used for rate-limiting to avoid making too many requests in a short time.\n",
    "- glob: Provides a way to find files matching a specific pattern (used for renaming extracted files)."
   ]
  },
  {
   "cell_type": "markdown",
   "metadata": {},
   "source": [
    "# 2. Function to set up a session with retry logic"
   ]
  },
  {
   "cell_type": "code",
   "execution_count": 3,
   "metadata": {},
   "outputs": [],
   "source": [
    "def setup_session():\n",
    "    session = requests.Session()  # Create a session object to persist settings and cookies across requests.\n",
    "    \n",
    "    # Configure retry logic\n",
    "    retries = Retry(total=5, backoff_factor=1, status_forcelist=[403, 500, 502, 503, 504])\n",
    "    \n",
    "    # Attach the retry logic to the session\n",
    "    session.mount('https://', HTTPAdapter(max_retries=retries))\n",
    "    \n",
    "    # Set a user-agent header to identify the bot to the server\n",
    "    session.headers.update({\n",
    "        'User-Agent': 'Mozilla/5.0 (compatible; YourBot/0.1; +http://yourwebsite.com/bot.html)'\n",
    "    })\n",
    "    \n",
    "    return session"
   ]
  },
  {
   "cell_type": "markdown",
   "metadata": {},
   "source": [
    "+ setup_session: This function sets up a persistent HTTP session.\n",
    "+ The retry logic is configured to retry failed requests (e.g., for specific status codes like 403, 500, etc.).\n",
    "+ A custom User-Agent is added to the session headers to identify the bot when sending requests to servers."
   ]
  },
  {
   "cell_type": "code",
   "execution_count": 4,
   "metadata": {},
   "outputs": [],
   "source": [
    "# Function to download a file with retry logic\n",
    "def download_file_with_retry(session, url):\n",
    "    try:\n",
    "        response = session.get(url)  # Send a GET request to the URL.\n",
    "        response.raise_for_status()  # Check if the request was successful (raise an exception if not).\n",
    "        return response  # Return the response if successful.\n",
    "    except requests.exceptions.HTTPError as e:\n",
    "        print(f\"Failed to download {url}: {e}\")  # Print an error message if the request fails.\n",
    "        return None  # Return None if the download fails.\n"
   ]
  },
  {
   "cell_type": "markdown",
   "metadata": {},
   "source": [
    "+ download_file_with_retry: This function downloads a file using the session and retry logic. It handles HTTP errors by printing a message if the download fails."
   ]
  },
  {
   "cell_type": "markdown",
   "metadata": {},
   "source": [
    "# 3. Main function to download and unzip forms with rate limiting"
   ]
  },
  {
   "cell_type": "code",
   "execution_count": 5,
   "metadata": {},
   "outputs": [],
   "source": [
    "def download_and_unzip_forms(session, start_year, end_year, base_url, target_directory, requests_per_minute=10):\n",
    "    request_interval = 60 / requests_per_minute  # Calculate the time interval between requests to ensure rate limiting.\n",
    "\n",
    "    # Loop over each year and quarter to download and unzip files\n",
    "    for year in range(start_year, end_year + 1):\n",
    "        for quarter in ['QTR1', 'QTR2', 'QTR3', 'QTR4']:\n",
    "            zip_url = f\"{base_url}/{year}/{quarter}/form.zip\"  # Construct the URL for the ZIP file.\n",
    "            response = download_file_with_retry(session, zip_url)  # Download the file with retry logic.\n",
    "\n",
    "            if response:  # If the download was successful:\n",
    "                try:\n",
    "                    # Use a context manager to open the downloaded ZIP file\n",
    "                    with zipfile.ZipFile(BytesIO(response.content)) as zfile:\n",
    "                        # Check if there are any files in the zip before extracting\n",
    "                        extracted_files = zfile.namelist()\n",
    "\n",
    "                        if any(file.endswith('.idx') for file in extracted_files):  # Check for .idx files\n",
    "                            extract_path = os.path.join(target_directory, f\"{year}{quarter}\")  # Set the extraction directory.\n",
    "                            os.makedirs(extract_path, exist_ok=True)  # Create the directory only when there are files to extract.\n",
    "                            zfile.extractall(path=extract_path)  # Extract the ZIP file contents.\n",
    "                            print(f\"Extracted to {extract_path}\")  # Inform the user of the extraction location.\n",
    "\n",
    "                            # Rename the extracted .idx file if found\n",
    "                            extracted_idx_files = glob.glob(os.path.join(extract_path, '*.idx'))\n",
    "                            if extracted_idx_files:\n",
    "                                original_file = extracted_idx_files[0]  # Take the first .idx file (assumed to be the target).\n",
    "                                new_filename = os.path.join(target_directory, f\"{year}{quarter}.idx\")  # Set new file name.\n",
    "                                os.rename(original_file, new_filename)  # Rename the file.\n",
    "                                print(f\"Renamed extracted file to {new_filename}\")\n",
    "\n",
    "                                # Remove the extraction directory after renaming the file\n",
    "                                shutil.rmtree(extract_path)  # Remove the directory and all its contents\n",
    "                                print(f\"Removed directory: {extract_path}\")\n",
    "                            else:\n",
    "                                print(\"No .idx file found to rename.\")\n",
    "                        else:\n",
    "                            print(f\"No .idx files found in {zip_url}. Skipping extraction.\")\n",
    "                except zipfile.BadZipFile as e:\n",
    "                    print(f\"Failed to unzip {zip_url}: {e}\")  # Handle errors if the ZIP file is corrupted.\n",
    "\n",
    "            time.sleep(request_interval)  # Wait before sending the next request (rate limiting).\n"
   ]
  },
  {
   "cell_type": "markdown",
   "metadata": {},
   "source": [
    "+ download_and_unzip_forms: The main function that loops over years and quarters to download, unzip, and rename files.\n",
    "+ request_interval: Used to control the time between requests to avoid overwhelming the server (rate limiting).\n",
    "+ download_file_with_retry: Called to download the ZIP file.\n",
    "+ If the download is successful, the ZIP file is extracted, and any .idx files are renamed.\n",
    "+ If the ZIP file is invalid, it catches and prints the error."
   ]
  },
  {
   "cell_type": "markdown",
   "metadata": {},
   "source": [
    "# 4. Run the task"
   ]
  },
  {
   "cell_type": "markdown",
   "metadata": {},
   "source": [
    "## 4.1 Setting up the session and defining parameters for the file download"
   ]
  },
  {
   "cell_type": "code",
   "execution_count": 6,
   "metadata": {},
   "outputs": [],
   "source": [
    "session = setup_session()  # Initialize the session with retry logic.\n",
    "\n",
    "start_year = 2023  # Define the start year.\n",
    "end_year = 2023  # Define the end year.\n",
    "\n",
    "base_url = \"https://www.sec.gov/Archives/edgar/full-index\"  # Define the base URL for downloading files.\n",
    "\n",
    "target_directory = \"D:/EDGAR/Forms\"  # Define the directory to store the downloaded forms.\n",
    "\n",
    "requests_per_minute = 10  # Define the maximum number of requests per minute (rate limiting).\n",
    "\n",
    "# Ensure the target directory exists\n",
    "os.makedirs(target_directory, exist_ok=True)  # Create the directory if it doesn't exist.\n"
   ]
  },
  {
   "cell_type": "markdown",
   "metadata": {},
   "source": [
    "#### You can customize the code by changing the 'star_year', 'end_year', and 'target_directory';\n",
    "+ The parameters such as the start and end years, and target directory are defined here.\n",
    "+ The session is created using the setup_session function.\n",
    "+ The target directory is ensured to exist by creating it if it doesn't already."
   ]
  },
  {
   "cell_type": "markdown",
   "metadata": {},
   "source": [
    "## 4.2 Start the download and unzip process"
   ]
  },
  {
   "cell_type": "code",
   "execution_count": 7,
   "metadata": {},
   "outputs": [
    {
     "name": "stdout",
     "output_type": "stream",
     "text": [
      "Extracted to D:/EDGAR/Forms\\2023QTR1\n",
      "Renamed extracted file to D:/EDGAR/Forms\\2023QTR1.idx\n",
      "Removed directory: D:/EDGAR/Forms\\2023QTR1\n",
      "Extracted to D:/EDGAR/Forms\\2023QTR2\n",
      "Renamed extracted file to D:/EDGAR/Forms\\2023QTR2.idx\n",
      "Removed directory: D:/EDGAR/Forms\\2023QTR2\n",
      "Extracted to D:/EDGAR/Forms\\2023QTR3\n",
      "Renamed extracted file to D:/EDGAR/Forms\\2023QTR3.idx\n",
      "Removed directory: D:/EDGAR/Forms\\2023QTR3\n",
      "Extracted to D:/EDGAR/Forms\\2023QTR4\n",
      "Renamed extracted file to D:/EDGAR/Forms\\2023QTR4.idx\n",
      "Removed directory: D:/EDGAR/Forms\\2023QTR4\n"
     ]
    }
   ],
   "source": [
    "download_and_unzip_forms(session, start_year, end_year, base_url, target_directory, requests_per_minute)"
   ]
  }
 ],
 "metadata": {
  "kernelspec": {
   "display_name": "Python 3",
   "language": "python",
   "name": "python3"
  },
  "language_info": {
   "codemirror_mode": {
    "name": "ipython",
    "version": 3
   },
   "file_extension": ".py",
   "mimetype": "text/x-python",
   "name": "python",
   "nbconvert_exporter": "python",
   "pygments_lexer": "ipython3",
   "version": "3.12.6"
  }
 },
 "nbformat": 4,
 "nbformat_minor": 2
}
