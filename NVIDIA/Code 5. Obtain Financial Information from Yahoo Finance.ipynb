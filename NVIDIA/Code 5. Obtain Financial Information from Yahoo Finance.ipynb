{
 "cells": [
  {
   "cell_type": "markdown",
   "metadata": {},
   "source": [
    "# Download Financials and Price data from Yahoo Finance"
   ]
  },
  {
   "cell_type": "markdown",
   "metadata": {},
   "source": [
    "## Summary of Workflow:\n",
    "+ 1. Import Libraries: Import yfinance, pandas, and other required libraries.\n",
    "+ 2. Define Tickers and Date Range: Set up the stock tickers and date range for querying historical data.\n",
    "+ 3. Fetch and Save Stock Prices: Use yfinance to fetch historical stock prices and save them to a CSV.\n",
    "+ 4. Fetch and Save Income Statements: Retrieve income statements and save to CSV.\n",
    "+ 5. Fetch and Save Balance Sheets: Fetch balance sheets and save to CSV.\n",
    "+ 6. Fetch and Save Cash Flow Statements: Fetch cash flow statements and save to CSV.\n",
    "+ 7. Merge Financial Data: Merge all financial statements into a single DataFrame and save the final result."
   ]
  },
  {
   "cell_type": "markdown",
   "metadata": {},
   "source": [
    "# Step 1: Import Necessary Libraries\n"
   ]
  },
  {
   "cell_type": "code",
   "execution_count": 35,
   "metadata": {},
   "outputs": [],
   "source": [
    "# Import necessary libraries\n",
    "import yfinance as yf\n",
    "import pandas as pd\n",
    "from datetime import datetime\n"
   ]
  },
  {
   "cell_type": "markdown",
   "metadata": {},
   "source": [
    "+ yfinance: Used to fetch stock price data, income statements, balance sheets, and cash flow statements.\n",
    "+ pandas: Used for data manipulation and analysis.\n",
    "+ datetime: Helps us handle date formatting for querying stock data."
   ]
  },
  {
   "cell_type": "markdown",
   "metadata": {},
   "source": [
    "# Step 2: Define the List of Stock Tickers and Date Range\n"
   ]
  },
  {
   "cell_type": "code",
   "execution_count": 51,
   "metadata": {},
   "outputs": [],
   "source": [
    "# Define the stock ticker symbols and the date range\n",
    "tickers = ['NVDA']\n",
    "\n",
    "start_date = '2020-01-01'\n",
    "end_date = '2024-12-31'"
   ]
  },
  {
   "cell_type": "markdown",
   "metadata": {},
   "source": [
    "+ We define a list of S&P 100 stock tickers for major companies and specify a date range from January 1, 2020, to December 31, 2022. This range will be used to query historical stock prices."
   ]
  },
  {
   "cell_type": "markdown",
   "metadata": {},
   "source": [
    "# Step 3: Fetch Historical Stock Prices\n"
   ]
  },
  {
   "cell_type": "code",
   "execution_count": 52,
   "metadata": {},
   "outputs": [],
   "source": [
    "# Initialize an empty DataFrame to store the stock price data\n",
    "all_stock_prices = pd.DataFrame()\n",
    "\n",
    "max_retries = 5  # Maximum number of retries for each request\n",
    "retry_delay = 5  # Delay between retries in seconds\n",
    "\n",
    "def fetch_stock_data(ticker):\n",
    "    \"\"\"\n",
    "    Fetches stock data for a given ticker with retries.\n",
    "    \"\"\"\n",
    "    for attempt in range(max_retries):\n",
    "        try:\n",
    "            # Fetch historical stock prices using yfinance\n",
    "            stock_data = yf.Ticker(ticker)\n",
    "            history = stock_data.history(start=start_date, end=end_date)\n",
    "\n",
    "            # Check if the DataFrame is empty (indicating no data available, possibly delisted)\n",
    "            if history.empty:\n",
    "                print(f\"No data found for {ticker}, possibly delisted or inactive.\")\n",
    "                return None\n",
    "\n",
    "            # Create a DataFrame with the 'Close' prices and necessary columns\n",
    "            stock_prices_df = history[['Close']].copy()\n",
    "            stock_prices_df['Ticker'] = ticker\n",
    "            stock_prices_df['Date'] = stock_prices_df.index\n",
    "            stock_prices_df.rename(columns={'Close': 'Price'}, inplace=True)\n",
    "\n",
    "            return stock_prices_df\n",
    "\n",
    "        except Exception as e:\n",
    "            print(f\"Attempt {attempt+1} failed for {ticker}: {e}\")\n",
    "            if attempt < max_retries - 1:\n",
    "                time.sleep(retry_delay)  # Wait before retrying\n",
    "            else:\n",
    "                print(f\"Max retries exceeded for {ticker}. Skipping.\")\n",
    "                return None\n",
    "\n",
    "# Iterate over each ticker symbol to fetch historical stock prices\n",
    "for ticker in tickers:\n",
    "    stock_prices_df = fetch_stock_data(ticker)\n",
    "    if stock_prices_df is not None:\n",
    "        # Concatenate the data for this ticker with the master DataFrame\n",
    "        all_stock_prices = pd.concat([all_stock_prices, stock_prices_df])\n",
    "\n"
   ]
  },
  {
   "cell_type": "markdown",
   "metadata": {},
   "source": [
    "+ We initialize an empty DataFrame to store stock price data for all companies. For each ticker, we use yfinance to get the historical stock prices (using the .history() method) and extract the closing price. The stock prices for each company are stored in the master DataFrame."
   ]
  },
  {
   "cell_type": "markdown",
   "metadata": {},
   "source": [
    "# Step 4: Clean and Save the Stock Prices Data\n"
   ]
  },
  {
   "cell_type": "code",
   "execution_count": 53,
   "metadata": {},
   "outputs": [
    {
     "name": "stdout",
     "output_type": "stream",
     "text": [
      "Stock prices saved successfully.\n"
     ]
    }
   ],
   "source": [
    "# Reset the index of the combined DataFrame\n",
    "all_stock_prices.reset_index(drop=True, inplace=True)\n",
    "\n",
    "# Reorder the DataFrame columns\n",
    "all_stock_prices = all_stock_prices[['Ticker', 'Date', 'Price']]\n",
    "\n",
    "# Save the stock prices to a CSV file\n",
    "all_stock_prices.to_csv('output-csv-yahoo/all_stock_prices.csv', index=False)\n",
    "\n",
    "print(\"Stock prices saved successfully.\")\n"
   ]
  },
  {
   "cell_type": "markdown",
   "metadata": {},
   "source": [
    "# Step 5: Fetch Income Statements for Each Ticker\n"
   ]
  },
  {
   "cell_type": "code",
   "execution_count": 54,
   "metadata": {},
   "outputs": [
    {
     "name": "stdout",
     "output_type": "stream",
     "text": [
      "0   2025-01-31\n",
      "1   2024-01-31\n",
      "2   2023-01-31\n",
      "3   2022-01-31\n",
      "Name: Date, dtype: datetime64[ns]\n"
     ]
    }
   ],
   "source": [
    "# Initialize an empty DataFrame to store all income statements\n",
    "all_income_statements = pd.DataFrame()\n",
    "\n",
    "for ticker in tickers:\n",
    "    try:\n",
    "        stock_data = yf.Ticker(ticker)\n",
    "        income_statement = stock_data.financials.T  # Transpose for better structure\n",
    "        income_statement['Ticker'] = ticker\n",
    "        income_statement.reset_index(inplace=True)\n",
    "        income_statement.rename(columns={'index': 'Date'}, inplace=True)\n",
    "        print(income_statement.Date)\n",
    "        all_income_statements = pd.concat([all_income_statements, income_statement])\n",
    "    except Exception as e:\n",
    "        print(f\"Failed to fetch income statement for {ticker}: {e}\")\n"
   ]
  },
  {
   "cell_type": "markdown",
   "metadata": {},
   "source": [
    "# Step 6: Clean and Save the Income Statements Data\n"
   ]
  },
  {
   "cell_type": "code",
   "execution_count": 55,
   "metadata": {},
   "outputs": [],
   "source": [
    "# Reorder the columns to have 'Ticker' and 'Date' first\n",
    "columns = ['Ticker', 'Date'] + [col for col in all_income_statements.columns if col not in ['Ticker', 'Date']]\n",
    "all_income_statements = all_income_statements[columns]\n",
    "\n",
    "# Save the income statements to a CSV file\n",
    "all_income_statements.to_csv('output-csv-yahoo/all_income_statements.csv', index=False)\n"
   ]
  },
  {
   "cell_type": "markdown",
   "metadata": {},
   "source": [
    "# Step 7: Fetch and Save Balance Sheets\n"
   ]
  },
  {
   "cell_type": "code",
   "execution_count": 56,
   "metadata": {},
   "outputs": [],
   "source": [
    "# Initialize an empty DataFrame to store all balance sheets\n",
    "all_balance_sheets = pd.DataFrame()\n",
    "\n",
    "for ticker in tickers:\n",
    "    try:\n",
    "        stock_data = yf.Ticker(ticker)\n",
    "        balance_sheet = stock_data.balance_sheet.T  # Transpose for better structure\n",
    "        balance_sheet['Ticker'] = ticker\n",
    "        balance_sheet.reset_index(inplace=True)\n",
    "        balance_sheet.rename(columns={'index': 'Date'}, inplace=True)\n",
    "        all_balance_sheets = pd.concat([all_balance_sheets, balance_sheet])\n",
    "    except Exception as e:\n",
    "        print(f\"Failed to fetch balance sheet for {ticker}: {e}\")\n",
    "\n",
    "# Reorder and save the balance sheet data\n",
    "columns = ['Ticker', 'Date'] + [col for col in all_balance_sheets.columns if col not in ['Ticker', 'Date']]\n",
    "all_balance_sheets = all_balance_sheets[columns]\n",
    "\n",
    "# Save the balance sheet data to a CSV file\n",
    "all_balance_sheets.to_csv('output-csv-yahoo/all_balance_sheets.csv', index=False)\n"
   ]
  },
  {
   "cell_type": "markdown",
   "metadata": {},
   "source": [
    "# Step 8: Fetch and Save Cash Flow Statements\n"
   ]
  },
  {
   "cell_type": "code",
   "execution_count": 57,
   "metadata": {},
   "outputs": [],
   "source": [
    "# Initialize an empty DataFrame to store all cash flow statements\n",
    "all_cashflow = pd.DataFrame()\n",
    "\n",
    "for ticker in tickers:\n",
    "    try:\n",
    "        stock_data = yf.Ticker(ticker)\n",
    "        cashflow = stock_data.cashflow.T  # Transpose for better structure\n",
    "        cashflow['Ticker'] = ticker\n",
    "        cashflow.reset_index(inplace=True)\n",
    "        cashflow.rename(columns={'index': 'Date'}, inplace=True)\n",
    "        all_cashflow = pd.concat([all_cashflow, cashflow])\n",
    "    except Exception as e:\n",
    "        print(f\"Failed to fetch cash flow statement for {ticker}: {e}\")\n",
    "\n",
    "# Reorder and save the cash flow data\n",
    "columns = ['Ticker', 'Date'] + [col for col in all_cashflow.columns if col not in ['Ticker', 'Date']]\n",
    "all_cashflow = all_cashflow[columns]\n",
    "\n",
    "# Save the cash flow statements to a CSV file\n",
    "all_cashflow.to_csv('output-csv-yahoo/all_cashflow.csv', index=False)\n"
   ]
  },
  {
   "cell_type": "markdown",
   "metadata": {},
   "source": [
    "# Step 9: Merge All Financial Statements\n"
   ]
  },
  {
   "cell_type": "code",
   "execution_count": 58,
   "metadata": {},
   "outputs": [],
   "source": [
    "# Merge all financial statements (balance sheet, income statement, cash flow)\n",
    "fs_merged1 = pd.merge(all_balance_sheets, all_income_statements, on=['Ticker', 'Date'], how='inner')\n",
    "fs_merged = pd.merge(fs_merged1, all_cashflow, on=['Ticker', 'Date'], how='inner')\n",
    "\n",
    "# Save the merged financial statements to a CSV file\n",
    "fs_merged.to_csv('output-csv-yahoo/all_financial_statements.csv', index=False)\n"
   ]
  }
 ],
 "metadata": {
  "kernelspec": {
   "display_name": "Python 3",
   "language": "python",
   "name": "python3"
  },
  "language_info": {
   "codemirror_mode": {
    "name": "ipython",
    "version": 3
   },
   "file_extension": ".py",
   "mimetype": "text/x-python",
   "name": "python",
   "nbconvert_exporter": "python",
   "pygments_lexer": "ipython3",
   "version": "3.13.5"
  }
 },
 "nbformat": 4,
 "nbformat_minor": 2
}
